{
 "cells": [
  {
   "cell_type": "markdown",
   "id": "4da2d0b1",
   "metadata": {
    "papermill": {
     "duration": 0.003713,
     "end_time": "2025-08-02T16:58:36.938173",
     "exception": false,
     "start_time": "2025-08-02T16:58:36.934460",
     "status": "completed"
    },
    "tags": []
   },
   "source": [
    "# House Prices Prediction using Regression 🏡\n",
    "In this project, we predict house prices using regression models. The workflow includes data cleaning, feature engineering, visualization, and model evaluation."
   ]
  },
  {
   "cell_type": "code",
   "execution_count": 1,
   "id": "ae10d12c",
   "metadata": {
    "execution": {
     "iopub.execute_input": "2025-08-02T16:58:36.946280Z",
     "iopub.status.busy": "2025-08-02T16:58:36.945880Z",
     "iopub.status.idle": "2025-08-02T16:58:42.008519Z",
     "shell.execute_reply": "2025-08-02T16:58:42.007539Z"
    },
    "papermill": {
     "duration": 5.068674,
     "end_time": "2025-08-02T16:58:42.010328",
     "exception": false,
     "start_time": "2025-08-02T16:58:36.941654",
     "status": "completed"
    },
    "tags": []
   },
   "outputs": [],
   "source": [
    "import pandas as pd\n",
    "import numpy as np\n",
    "import matplotlib.pyplot as plt\n",
    "import seaborn as sns\n",
    "\n",
    "from sklearn.model_selection import train_test_split\n",
    "from sklearn.linear_model import LinearRegression\n",
    "from sklearn.ensemble import RandomForestRegressor\n",
    "from sklearn.metrics import mean_squared_error\n"
   ]
  },
  {
   "cell_type": "code",
   "execution_count": 2,
   "id": "d6a3cf0d",
   "metadata": {
    "execution": {
     "iopub.execute_input": "2025-08-02T16:58:42.018805Z",
     "iopub.status.busy": "2025-08-02T16:58:42.018317Z",
     "iopub.status.idle": "2025-08-02T16:58:42.137501Z",
     "shell.execute_reply": "2025-08-02T16:58:42.136343Z"
    },
    "papermill": {
     "duration": 0.125325,
     "end_time": "2025-08-02T16:58:42.139158",
     "exception": false,
     "start_time": "2025-08-02T16:58:42.013833",
     "status": "completed"
    },
    "tags": []
   },
   "outputs": [
    {
     "name": "stdout",
     "output_type": "stream",
     "text": [
      "Train shape: (1460, 81)\n",
      "Test shape: (1459, 80)\n"
     ]
    },
    {
     "data": {
      "text/html": [
       "<div>\n",
       "<style scoped>\n",
       "    .dataframe tbody tr th:only-of-type {\n",
       "        vertical-align: middle;\n",
       "    }\n",
       "\n",
       "    .dataframe tbody tr th {\n",
       "        vertical-align: top;\n",
       "    }\n",
       "\n",
       "    .dataframe thead th {\n",
       "        text-align: right;\n",
       "    }\n",
       "</style>\n",
       "<table border=\"1\" class=\"dataframe\">\n",
       "  <thead>\n",
       "    <tr style=\"text-align: right;\">\n",
       "      <th></th>\n",
       "      <th>Id</th>\n",
       "      <th>MSSubClass</th>\n",
       "      <th>MSZoning</th>\n",
       "      <th>LotFrontage</th>\n",
       "      <th>LotArea</th>\n",
       "      <th>Street</th>\n",
       "      <th>Alley</th>\n",
       "      <th>LotShape</th>\n",
       "      <th>LandContour</th>\n",
       "      <th>Utilities</th>\n",
       "      <th>...</th>\n",
       "      <th>PoolArea</th>\n",
       "      <th>PoolQC</th>\n",
       "      <th>Fence</th>\n",
       "      <th>MiscFeature</th>\n",
       "      <th>MiscVal</th>\n",
       "      <th>MoSold</th>\n",
       "      <th>YrSold</th>\n",
       "      <th>SaleType</th>\n",
       "      <th>SaleCondition</th>\n",
       "      <th>SalePrice</th>\n",
       "    </tr>\n",
       "  </thead>\n",
       "  <tbody>\n",
       "    <tr>\n",
       "      <th>0</th>\n",
       "      <td>1</td>\n",
       "      <td>60</td>\n",
       "      <td>RL</td>\n",
       "      <td>65.0</td>\n",
       "      <td>8450</td>\n",
       "      <td>Pave</td>\n",
       "      <td>NaN</td>\n",
       "      <td>Reg</td>\n",
       "      <td>Lvl</td>\n",
       "      <td>AllPub</td>\n",
       "      <td>...</td>\n",
       "      <td>0</td>\n",
       "      <td>NaN</td>\n",
       "      <td>NaN</td>\n",
       "      <td>NaN</td>\n",
       "      <td>0</td>\n",
       "      <td>2</td>\n",
       "      <td>2008</td>\n",
       "      <td>WD</td>\n",
       "      <td>Normal</td>\n",
       "      <td>208500</td>\n",
       "    </tr>\n",
       "    <tr>\n",
       "      <th>1</th>\n",
       "      <td>2</td>\n",
       "      <td>20</td>\n",
       "      <td>RL</td>\n",
       "      <td>80.0</td>\n",
       "      <td>9600</td>\n",
       "      <td>Pave</td>\n",
       "      <td>NaN</td>\n",
       "      <td>Reg</td>\n",
       "      <td>Lvl</td>\n",
       "      <td>AllPub</td>\n",
       "      <td>...</td>\n",
       "      <td>0</td>\n",
       "      <td>NaN</td>\n",
       "      <td>NaN</td>\n",
       "      <td>NaN</td>\n",
       "      <td>0</td>\n",
       "      <td>5</td>\n",
       "      <td>2007</td>\n",
       "      <td>WD</td>\n",
       "      <td>Normal</td>\n",
       "      <td>181500</td>\n",
       "    </tr>\n",
       "    <tr>\n",
       "      <th>2</th>\n",
       "      <td>3</td>\n",
       "      <td>60</td>\n",
       "      <td>RL</td>\n",
       "      <td>68.0</td>\n",
       "      <td>11250</td>\n",
       "      <td>Pave</td>\n",
       "      <td>NaN</td>\n",
       "      <td>IR1</td>\n",
       "      <td>Lvl</td>\n",
       "      <td>AllPub</td>\n",
       "      <td>...</td>\n",
       "      <td>0</td>\n",
       "      <td>NaN</td>\n",
       "      <td>NaN</td>\n",
       "      <td>NaN</td>\n",
       "      <td>0</td>\n",
       "      <td>9</td>\n",
       "      <td>2008</td>\n",
       "      <td>WD</td>\n",
       "      <td>Normal</td>\n",
       "      <td>223500</td>\n",
       "    </tr>\n",
       "    <tr>\n",
       "      <th>3</th>\n",
       "      <td>4</td>\n",
       "      <td>70</td>\n",
       "      <td>RL</td>\n",
       "      <td>60.0</td>\n",
       "      <td>9550</td>\n",
       "      <td>Pave</td>\n",
       "      <td>NaN</td>\n",
       "      <td>IR1</td>\n",
       "      <td>Lvl</td>\n",
       "      <td>AllPub</td>\n",
       "      <td>...</td>\n",
       "      <td>0</td>\n",
       "      <td>NaN</td>\n",
       "      <td>NaN</td>\n",
       "      <td>NaN</td>\n",
       "      <td>0</td>\n",
       "      <td>2</td>\n",
       "      <td>2006</td>\n",
       "      <td>WD</td>\n",
       "      <td>Abnorml</td>\n",
       "      <td>140000</td>\n",
       "    </tr>\n",
       "    <tr>\n",
       "      <th>4</th>\n",
       "      <td>5</td>\n",
       "      <td>60</td>\n",
       "      <td>RL</td>\n",
       "      <td>84.0</td>\n",
       "      <td>14260</td>\n",
       "      <td>Pave</td>\n",
       "      <td>NaN</td>\n",
       "      <td>IR1</td>\n",
       "      <td>Lvl</td>\n",
       "      <td>AllPub</td>\n",
       "      <td>...</td>\n",
       "      <td>0</td>\n",
       "      <td>NaN</td>\n",
       "      <td>NaN</td>\n",
       "      <td>NaN</td>\n",
       "      <td>0</td>\n",
       "      <td>12</td>\n",
       "      <td>2008</td>\n",
       "      <td>WD</td>\n",
       "      <td>Normal</td>\n",
       "      <td>250000</td>\n",
       "    </tr>\n",
       "  </tbody>\n",
       "</table>\n",
       "<p>5 rows × 81 columns</p>\n",
       "</div>"
      ],
      "text/plain": [
       "   Id  MSSubClass MSZoning  LotFrontage  LotArea Street Alley LotShape  \\\n",
       "0   1          60       RL         65.0     8450   Pave   NaN      Reg   \n",
       "1   2          20       RL         80.0     9600   Pave   NaN      Reg   \n",
       "2   3          60       RL         68.0    11250   Pave   NaN      IR1   \n",
       "3   4          70       RL         60.0     9550   Pave   NaN      IR1   \n",
       "4   5          60       RL         84.0    14260   Pave   NaN      IR1   \n",
       "\n",
       "  LandContour Utilities  ... PoolArea PoolQC Fence MiscFeature MiscVal MoSold  \\\n",
       "0         Lvl    AllPub  ...        0    NaN   NaN         NaN       0      2   \n",
       "1         Lvl    AllPub  ...        0    NaN   NaN         NaN       0      5   \n",
       "2         Lvl    AllPub  ...        0    NaN   NaN         NaN       0      9   \n",
       "3         Lvl    AllPub  ...        0    NaN   NaN         NaN       0      2   \n",
       "4         Lvl    AllPub  ...        0    NaN   NaN         NaN       0     12   \n",
       "\n",
       "  YrSold  SaleType  SaleCondition  SalePrice  \n",
       "0   2008        WD         Normal     208500  \n",
       "1   2007        WD         Normal     181500  \n",
       "2   2008        WD         Normal     223500  \n",
       "3   2006        WD        Abnorml     140000  \n",
       "4   2008        WD         Normal     250000  \n",
       "\n",
       "[5 rows x 81 columns]"
      ]
     },
     "execution_count": 2,
     "metadata": {},
     "output_type": "execute_result"
    }
   ],
   "source": [
    "train = pd.read_csv(\"/kaggle/input/house-prices-advanced-regression-techniques/train.csv\")\n",
    "test = pd.read_csv(\"/kaggle/input/house-prices-advanced-regression-techniques/test.csv\")\n",
    "\n",
    "print(\"Train shape:\", train.shape)\n",
    "print(\"Test shape:\", test.shape)\n",
    "\n",
    "train.head()"
   ]
  },
  {
   "cell_type": "markdown",
   "id": "41efd41a",
   "metadata": {
    "papermill": {
     "duration": 0.003255,
     "end_time": "2025-08-02T16:58:42.146322",
     "exception": false,
     "start_time": "2025-08-02T16:58:42.143067",
     "status": "completed"
    },
    "tags": []
   },
   "source": [
    "## 1. Data Cleaning and Preprocessing 🧹\n",
    "\n",
    "We start by checking for missing values and removing or imputing them where appropriate. We will also drop columns that are highly sparse or irrelevant to our models.\n"
   ]
  },
  {
   "cell_type": "code",
   "execution_count": 3,
   "id": "d8b5bb6d",
   "metadata": {
    "execution": {
     "iopub.execute_input": "2025-08-02T16:58:42.154616Z",
     "iopub.status.busy": "2025-08-02T16:58:42.154256Z",
     "iopub.status.idle": "2025-08-02T16:58:42.168188Z",
     "shell.execute_reply": "2025-08-02T16:58:42.167107Z"
    },
    "papermill": {
     "duration": 0.01976,
     "end_time": "2025-08-02T16:58:42.169669",
     "exception": false,
     "start_time": "2025-08-02T16:58:42.149909",
     "status": "completed"
    },
    "tags": []
   },
   "outputs": [
    {
     "data": {
      "text/plain": [
       "PoolQC          1453\n",
       "MiscFeature     1406\n",
       "Alley           1369\n",
       "Fence           1179\n",
       "MasVnrType       872\n",
       "FireplaceQu      690\n",
       "LotFrontage      259\n",
       "GarageType        81\n",
       "GarageYrBlt       81\n",
       "GarageFinish      81\n",
       "dtype: int64"
      ]
     },
     "execution_count": 3,
     "metadata": {},
     "output_type": "execute_result"
    }
   ],
   "source": [
    "# Check missing values\n",
    "missing = train.isnull().sum()\n",
    "missing = missing[missing > 0].sort_values(ascending=False)\n",
    "missing.head(10)\n"
   ]
  },
  {
   "cell_type": "code",
   "execution_count": 4,
   "id": "c8cdf11f",
   "metadata": {
    "execution": {
     "iopub.execute_input": "2025-08-02T16:58:42.180680Z",
     "iopub.status.busy": "2025-08-02T16:58:42.179330Z",
     "iopub.status.idle": "2025-08-02T16:58:42.193521Z",
     "shell.execute_reply": "2025-08-02T16:58:42.192462Z"
    },
    "papermill": {
     "duration": 0.021962,
     "end_time": "2025-08-02T16:58:42.195282",
     "exception": false,
     "start_time": "2025-08-02T16:58:42.173320",
     "status": "completed"
    },
    "tags": []
   },
   "outputs": [],
   "source": [
    "# Drop columns only if they exist in the dataframe\n",
    "drop_cols = ['PoolQC', 'MiscFeature', 'Alley', 'Fence', 'FireplaceQu']\n",
    "train = train.drop(columns=[col for col in drop_cols if col in train.columns])\n",
    "test = test.drop(columns=[col for col in drop_cols if col in test.columns])\n"
   ]
  },
  {
   "cell_type": "markdown",
   "id": "cd79dbf5",
   "metadata": {
    "papermill": {
     "duration": 0.003276,
     "end_time": "2025-08-02T16:58:42.202331",
     "exception": false,
     "start_time": "2025-08-02T16:58:42.199055",
     "status": "completed"
    },
    "tags": []
   },
   "source": [
    "## 2. Feature Engineering 🔧\n",
    "\n",
    "We apply feature engineering to improve model performance:\n",
    "- Convert numerical-looking categorical variables to strings\n",
    "- One-hot encode categorical features\n",
    "- Align training and testing data for consistency\n"
   ]
  },
  {
   "cell_type": "code",
   "execution_count": 5,
   "id": "e0e90c3c",
   "metadata": {
    "execution": {
     "iopub.execute_input": "2025-08-02T16:58:42.210571Z",
     "iopub.status.busy": "2025-08-02T16:58:42.210223Z",
     "iopub.status.idle": "2025-08-02T16:58:42.223503Z",
     "shell.execute_reply": "2025-08-02T16:58:42.222643Z"
    },
    "papermill": {
     "duration": 0.019133,
     "end_time": "2025-08-02T16:58:42.225080",
     "exception": false,
     "start_time": "2025-08-02T16:58:42.205947",
     "status": "completed"
    },
    "tags": []
   },
   "outputs": [],
   "source": [
    "# Safe conversion of MSSubClass if it exists\n",
    "if 'MSSubClass' in train.columns:\n",
    "    train['MSSubClass'] = train['MSSubClass'].astype(str)\n",
    "if 'MSSubClass' in test.columns:\n",
    "    test['MSSubClass'] = test['MSSubClass'].astype(str)\n",
    "\n",
    "# Save Id and target variable (only if columns exist)\n",
    "y = train['SalePrice'] if 'SalePrice' in train.columns else None\n",
    "train_ids = train['Id'] if 'Id' in train.columns else None\n",
    "test_ids = test['Id'] if 'Id' in test.columns else None\n",
    "\n",
    "# Drop columns safely\n",
    "for col in ['Id', 'SalePrice']:\n",
    "    if col in train.columns:\n",
    "        train.drop(columns=col, inplace=True)\n",
    "    if col in test.columns:\n",
    "        test.drop(columns=col, inplace=True)\n"
   ]
  },
  {
   "cell_type": "code",
   "execution_count": 6,
   "id": "68fbe4c4",
   "metadata": {
    "execution": {
     "iopub.execute_input": "2025-08-02T16:58:42.233739Z",
     "iopub.status.busy": "2025-08-02T16:58:42.233376Z",
     "iopub.status.idle": "2025-08-02T16:58:42.287891Z",
     "shell.execute_reply": "2025-08-02T16:58:42.286824Z"
    },
    "papermill": {
     "duration": 0.061056,
     "end_time": "2025-08-02T16:58:42.289854",
     "exception": false,
     "start_time": "2025-08-02T16:58:42.228798",
     "status": "completed"
    },
    "tags": []
   },
   "outputs": [],
   "source": [
    "# Combine train and test for consistent one-hot encoding\n",
    "combined = pd.concat([train, test], axis=0)\n",
    "combined = pd.get_dummies(combined)\n",
    "\n",
    "train = combined[:len(y)]\n",
    "test = combined[len(y):]\n"
   ]
  },
  {
   "cell_type": "code",
   "execution_count": 7,
   "id": "9a2f2ff7",
   "metadata": {
    "execution": {
     "iopub.execute_input": "2025-08-02T16:58:42.299465Z",
     "iopub.status.busy": "2025-08-02T16:58:42.299087Z",
     "iopub.status.idle": "2025-08-02T16:58:42.404026Z",
     "shell.execute_reply": "2025-08-02T16:58:42.403019Z"
    },
    "papermill": {
     "duration": 0.11166,
     "end_time": "2025-08-02T16:58:42.405743",
     "exception": false,
     "start_time": "2025-08-02T16:58:42.294083",
     "status": "completed"
    },
    "tags": []
   },
   "outputs": [],
   "source": [
    "# Fill missing values in train and test with mean (or median)\n",
    "train = train.fillna(train.mean())\n",
    "test = test.fillna(test.mean())"
   ]
  },
  {
   "cell_type": "code",
   "execution_count": 8,
   "id": "dbb0a04e",
   "metadata": {
    "execution": {
     "iopub.execute_input": "2025-08-02T16:58:42.414701Z",
     "iopub.status.busy": "2025-08-02T16:58:42.414340Z",
     "iopub.status.idle": "2025-08-02T16:58:42.975314Z",
     "shell.execute_reply": "2025-08-02T16:58:42.974448Z"
    },
    "papermill": {
     "duration": 0.56781,
     "end_time": "2025-08-02T16:58:42.977189",
     "exception": false,
     "start_time": "2025-08-02T16:58:42.409379",
     "status": "completed"
    },
    "tags": []
   },
   "outputs": [
    {
     "name": "stdout",
     "output_type": "stream",
     "text": [
      "RMSE scores: [23685.72491642 33659.06592099 31450.34177732 25467.98378117\n",
      " 45754.84495953]\n",
      "Average RMSE: 32003.592271083537\n"
     ]
    }
   ],
   "source": [
    "#Model training\n",
    "from sklearn.linear_model import Ridge\n",
    "from sklearn.model_selection import cross_val_score\n",
    "import numpy as np\n",
    "model = Ridge(alpha=1.0)\n",
    "rmse_scores = -1 * cross_val_score(model, train, y, cv=5, scoring='neg_root_mean_squared_error')\n",
    "print(\"RMSE scores:\", rmse_scores)\n",
    "print(\"Average RMSE:\", np.mean(rmse_scores))"
   ]
  },
  {
   "cell_type": "code",
   "execution_count": 9,
   "id": "ac814c1b",
   "metadata": {
    "execution": {
     "iopub.execute_input": "2025-08-02T16:58:42.993053Z",
     "iopub.status.busy": "2025-08-02T16:58:42.992406Z",
     "iopub.status.idle": "2025-08-02T16:58:43.121420Z",
     "shell.execute_reply": "2025-08-02T16:58:43.120586Z"
    },
    "papermill": {
     "duration": 0.139016,
     "end_time": "2025-08-02T16:58:43.123453",
     "exception": false,
     "start_time": "2025-08-02T16:58:42.984437",
     "status": "completed"
    },
    "tags": []
   },
   "outputs": [],
   "source": [
    "# Train final model on full training data\n",
    "model.fit(train, y)\n",
    "\n",
    "# Predict on test set\n",
    "predictions = model.predict(test)\n"
   ]
  },
  {
   "cell_type": "code",
   "execution_count": 10,
   "id": "f04ce090",
   "metadata": {
    "execution": {
     "iopub.execute_input": "2025-08-02T16:58:43.144283Z",
     "iopub.status.busy": "2025-08-02T16:58:43.143916Z",
     "iopub.status.idle": "2025-08-02T16:58:43.163900Z",
     "shell.execute_reply": "2025-08-02T16:58:43.162760Z"
    },
    "papermill": {
     "duration": 0.031555,
     "end_time": "2025-08-02T16:58:43.166302",
     "exception": false,
     "start_time": "2025-08-02T16:58:43.134747",
     "status": "completed"
    },
    "tags": []
   },
   "outputs": [],
   "source": [
    "submission = pd.DataFrame({\n",
    "    'Id': test_ids,\n",
    "    'SalePrice': predictions\n",
    "})\n",
    "\n",
    "submission.to_csv('submission.csv', index=False)"
   ]
  },
  {
   "cell_type": "code",
   "execution_count": 11,
   "id": "442df5d2",
   "metadata": {
    "execution": {
     "iopub.execute_input": "2025-08-02T16:58:43.181405Z",
     "iopub.status.busy": "2025-08-02T16:58:43.180705Z",
     "iopub.status.idle": "2025-08-02T16:58:43.190159Z",
     "shell.execute_reply": "2025-08-02T16:58:43.188434Z"
    },
    "papermill": {
     "duration": 0.020361,
     "end_time": "2025-08-02T16:58:43.192595",
     "exception": false,
     "start_time": "2025-08-02T16:58:43.172234",
     "status": "completed"
    },
    "tags": []
   },
   "outputs": [
    {
     "name": "stdout",
     "output_type": "stream",
     "text": [
      "['submission.csv', '__notebook__.ipynb']\n"
     ]
    }
   ],
   "source": [
    "import os\n",
    "print(os.listdir('/kaggle/working'))"
   ]
  },
  {
   "cell_type": "code",
   "execution_count": 12,
   "id": "342b3687",
   "metadata": {
    "execution": {
     "iopub.execute_input": "2025-08-02T16:58:43.207821Z",
     "iopub.status.busy": "2025-08-02T16:58:43.205338Z",
     "iopub.status.idle": "2025-08-02T16:58:43.211807Z",
     "shell.execute_reply": "2025-08-02T16:58:43.210969Z"
    },
    "papermill": {
     "duration": 0.015405,
     "end_time": "2025-08-02T16:58:43.214100",
     "exception": false,
     "start_time": "2025-08-02T16:58:43.198695",
     "status": "completed"
    },
    "tags": []
   },
   "outputs": [],
   "source": [
    "#import pandas as pd\n",
    "\n",
    "\n",
    "\n",
    "#submission = pd.DataFrame({\n",
    " #   'Id': test_ids,\n",
    "  #  'SalePrice': predictions\n",
    "#})\n",
    "\n",
    "#submission.to_csv('submission.csv', index=False)\n",
    "\n",
    "#from IPython.display import FileLink\n",
    "#FileLink('submission.csv')"
   ]
  }
 ],
 "metadata": {
  "kaggle": {
   "accelerator": "none",
   "dataSources": [
    {
     "databundleVersionId": 868283,
     "sourceId": 5407,
     "sourceType": "competition"
    }
   ],
   "dockerImageVersionId": 31089,
   "isGpuEnabled": false,
   "isInternetEnabled": true,
   "language": "python",
   "sourceType": "notebook"
  },
  "kernelspec": {
   "display_name": "Python 3",
   "language": "python",
   "name": "python3"
  },
  "language_info": {
   "codemirror_mode": {
    "name": "ipython",
    "version": 3
   },
   "file_extension": ".py",
   "mimetype": "text/x-python",
   "name": "python",
   "nbconvert_exporter": "python",
   "pygments_lexer": "ipython3",
   "version": "3.11.13"
  },
  "papermill": {
   "default_parameters": {},
   "duration": 12.375537,
   "end_time": "2025-08-02T16:58:44.038924",
   "environment_variables": {},
   "exception": null,
   "input_path": "__notebook__.ipynb",
   "output_path": "__notebook__.ipynb",
   "parameters": {},
   "start_time": "2025-08-02T16:58:31.663387",
   "version": "2.6.0"
  }
 },
 "nbformat": 4,
 "nbformat_minor": 5
}
